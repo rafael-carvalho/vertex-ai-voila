{
 "cells": [
  {
   "cell_type": "code",
   "execution_count": null,
   "metadata": {},
   "outputs": [],
   "source": [
    "# Licensed under the Apache License, Version 2.0 (the \"License\");\n",
    "# you may not use this file except in compliance with the License.\n",
    "# You may obtain a copy of the License at\n",
    "#\n",
    "#     https://www.apache.org/licenses/LICENSE-2.0\n",
    "#\n",
    "# Unless required by applicable law or agreed to in writing, software\n",
    "# distributed under the License is distributed on an \"AS IS\" BASIS,\n",
    "# WITHOUT WARRANTIES OR CONDITIONS OF ANY KIND, either express or implied.\n",
    "# See the License for the specific language governing permissions and\n",
    "# limitations under the License."
   ]
  },
  {
   "cell_type": "markdown",
   "metadata": {},
   "source": [
    "This notebook was created following the instructions provided on the medium post created by Gonzalo Gasca Meza available here: https://medium.com/@gogasca_/ai-platform-notebooks-with-voila-c3c57d4e8e"
   ]
  },
  {
   "cell_type": "code",
   "execution_count": null,
   "metadata": {},
   "outputs": [],
   "source": [
    "from datetime import datetime\n",
    "\n",
    "TIMESTAMP = datetime.now().strftime(\"%Y%m%d%H%M%S\")\n",
    "PROJECT_ID = '[CHANGE-ME]'\n",
    "INSTANCE_NAME = 'voila-' + TIMESTAMP\n",
    "SERVICE_ACCOUNT = INSTANCE_NAME + '-sa'\n",
    "LOCATION = 'us-central1-a'\n",
    "\n",
    "\n",
    "_SERVICE_ACCOUNT_ID = f'{SERVICE_ACCOUNT}@{PROJECT_ID}.iam.gserviceaccount.com'\n",
    "_SERVICE_ACCOUNT_MEMBER = f\"serviceAccount:{_SERVICE_ACCOUNT_ID}\"\n",
    "\n"
   ]
  },
  {
   "cell_type": "code",
   "execution_count": null,
   "metadata": {},
   "outputs": [],
   "source": [
    "# Reference: https://cloud.google.com/iam/docs/creating-managing-service-accounts\n",
    "\n",
    "! gcloud iam service-accounts create $SERVICE_ACCOUNT \\\n",
    "    --description=\"SA for notebook with Voila\" \\\n",
    "    --display-name=$SERVICE_ACCOUNT\n"
   ]
  },
  {
   "cell_type": "code",
   "execution_count": null,
   "metadata": {},
   "outputs": [],
   "source": [
    "# Reference: https://cloud.google.com/vertex-ai/docs/general/access-control#basic-roles & https://cloud.google.com/iam/docs/creating-managing-service-accounts\n",
    "\n",
    "! gcloud projects add-iam-policy-binding $PROJECT_ID \\\n",
    "    --member=$_SERVICE_ACCOUNT_MEMBER \\\n",
    "    --role=\"roles/aiplatform.admin\""
   ]
  },
  {
   "cell_type": "markdown",
   "metadata": {},
   "source": [
    "## Add the user that will need access to the notebook. You may need to repeat this step multiple times"
   ]
  },
  {
   "cell_type": "code",
   "execution_count": null,
   "metadata": {},
   "outputs": [],
   "source": [
    "# Reference: https://cloud.google.com/iam/docs/creating-managing-service-accounts\n",
    "AUTHORIZED_USER_EMAIL = 'email@domain.com'\n",
    "\n",
    "_AUTHORIZED_USER_MEMBER = f'user:{AUTHORIZED_USER_EMAIL}'\n",
    "\n",
    "\n",
    "! gcloud iam service-accounts add-iam-policy-binding \\\n",
    "    $_SERVICE_ACCOUNT_ID \\\n",
    "    --member=$_AUTHORIZED_USER_MEMBER \\\n",
    "    --role=\"roles/iam.serviceAccountUser\""
   ]
  },
  {
   "cell_type": "markdown",
   "metadata": {},
   "source": [
    "## Create the Notebook Instance"
   ]
  },
  {
   "cell_type": "code",
   "execution_count": null,
   "metadata": {},
   "outputs": [],
   "source": [
    "# Reference: https://cloud.google.com/vertex-ai/docs/general/troubleshooting#opening_a_notebook_results_in_a_403_forbidden_error\n",
    "\n",
    "! gcloud notebooks instances create $INSTANCE_NAME \\\n",
    "  --vm-image-project=deeplearning-platform-release \\\n",
    "  --vm-image-family=tf2-latest-cpu \\\n",
    "  --service-account=$_SERVICE_ACCOUNT_ID \\\n",
    "  --location=$LOCATION"
   ]
  },
  {
   "cell_type": "markdown",
   "metadata": {},
   "source": [
    "## Instructions to install Voila \n",
    "\n",
    "1) Go to your GCP Console and find the recently created USER-MANAGED NOTEBOOK instance: [link](https://pantheon.corp.google.com/vertex-ai/workbench/list/instances) (make sure you're on the right project)\n",
    "2) Open JupyterLab\n",
    "3) Press cancel on the pop-up message\n",
    "4) Open a new terminal tab inside JupyterLab\n",
    "6) Install the following libraries\n",
    "\n",
    "`conda install -y -c conda-forge ipywidgets ipyvolume bqplot scipy`\n",
    "\n",
    "`conda install -y -c conda-forge voila`\n",
    "\n",
    "7) Close the JupyterLab tab \n",
    "8) Continue below\n"
   ]
  },
  {
   "cell_type": "markdown",
   "metadata": {},
   "source": [
    "## Reset the instance"
   ]
  },
  {
   "cell_type": "code",
   "execution_count": null,
   "metadata": {},
   "outputs": [],
   "source": [
    "! gcloud beta notebooks instances reset $INSTANCE_NAME --location=$LOCATION"
   ]
  },
  {
   "cell_type": "markdown",
   "metadata": {},
   "source": [
    "## Renders a sample notebook"
   ]
  },
  {
   "cell_type": "code",
   "execution_count": null,
   "metadata": {},
   "outputs": [],
   "source": [
    "var = ! gcloud beta notebooks instances describe $INSTANCE_NAME --location=$LOCATION\n",
    "var = str(var)\n",
    "\n",
    "p = [x for x in var.split(',') if 'proxyUri' in x]\n",
    "p = p[0].replace('\"', \"\").replace(\"'\", '')\n",
    "uri = p.split(':')[-1].strip()\n",
    "\n",
    "url = f\"https://{uri}/voila/render/tutorials/README.ipynb\"\n",
    "\n",
    "\n",
    "from IPython.display import display, HTML\n",
    "\n",
    "# create a string template for the HTML snippet\n",
    "link_t = f\"<h2><a href='{url}'> Click here to open a sample notebook</a></h2>\"\n",
    "\n",
    "# create HTML object, using the string template\n",
    "html = HTML(link_t)\n",
    "\n",
    "# display the HTML object to put the link on the page:\n",
    "display(html)\n"
   ]
  },
  {
   "cell_type": "code",
   "execution_count": null,
   "metadata": {},
   "outputs": [],
   "source": []
  }
 ],
 "metadata": {
  "interpreter": {
   "hash": "1e6ebaa5ef3cc8b113e3da6509799547c6c35b3efba6419b5585fc074f011d27"
  },
  "kernelspec": {
   "display_name": "Python 3.9.6 64-bit ('venv': venv)",
   "language": "python",
   "name": "python3"
  },
  "language_info": {
   "codemirror_mode": {
    "name": "ipython",
    "version": 3
   },
   "file_extension": ".py",
   "mimetype": "text/x-python",
   "name": "python",
   "nbconvert_exporter": "python",
   "pygments_lexer": "ipython3",
   "version": "3.9.6"
  },
  "orig_nbformat": 4
 },
 "nbformat": 4,
 "nbformat_minor": 2
}
